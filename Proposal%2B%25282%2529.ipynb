{
 "cells": [
  {
   "cell_type": "markdown",
   "metadata": {},
   "source": [
    "Matthew Goodman and Jackie Woodlief"
   ]
  },
  {
   "cell_type": "markdown",
   "metadata": {},
   "source": [
    "Project Proposal\n",
    "\n",
    "For our project, we plan to utilize a Pokemon dataset, which can be found at https://www.kaggle.com/abcsds/pokemon. This dataset includes 721 Pokemon, each with their number, name, first (and second type if viable), and basic stats such as HP, Attack, Defense, Special Attack, Special Defense, and Speed.\n",
    "\n",
    "We plan on being able to have our artificial intelligence learn which pokemon work best together in a team. It will create a standard team of six pokemon from the data which will then be analysed and scored based on how well balanced the team is. For example, a low score team could be a team or solely one type of pokemon, or a team of magikarps. As it learns, the AI should be able to create more efficient teams. The AI should keep a pool of top teams to learn against as opposed to just the best team so as to assure that the team is capable of beating a variety of teams rather than countering one. That said, the AI should be capable of building a team that directly counters a specific team as well as being able to construct a team under constraints (such as only being able to use generation 1 pokemon).\n",
    "\n",
    "We are hoping to have the skeleton/pseudo code done by mid October and have it able to start learning shortly after or during that time period. After that it is just a matter of teaching the AI and making sure that the learning algorithms are good enough for it to be able to pass all the tests we give it. By the time the project is due, our goal is to have our AI fulling functioning and able to pass most, if not all, of the tests given to it on presentation day.\n",
    "\n",
    "We will both be working on getting the artificial intelligence up and running and making sure that the tests are returning the correct information. For our artificial intelligence, we plan on creating a neural network. We will also be figuring out team constraints in order to prevent over use of legendaries and such as well as analysis.  Matthew will also be working on the reward algorithm, while Jackie will be working with data management and write ups. \n",
    "\n",
    "During this project, we hope to figure out what kind of AI learning will work best with the data set we have chosen to work with and how we can optimize it. We also hope to see just how much our AI will be able to learn over the time period and if it will be able to draw any kinds of conclusions for itself, such as evolved pokemon having a stat boost over its original form.\n",
    "\n",
    "For our expectations, we hope to learn new ways to program AI systems and how to optimize the capabilities of its searches. We are also looking forward to doing hands on work with creating a learning artificial intelligence and seeing what it ends up being capable of by the end of the semester.\n",
    "\n"
   ]
  },
  {
   "cell_type": "code",
   "execution_count": null,
   "metadata": {
    "collapsed": true
   },
   "outputs": [],
   "source": []
  }
 ],
 "metadata": {
  "kernelspec": {
   "display_name": "Python 3",
   "language": "python",
   "name": "python3"
  },
  "language_info": {
   "codemirror_mode": {
    "name": "ipython",
    "version": 3
   },
   "file_extension": ".py",
   "mimetype": "text/x-python",
   "name": "python",
   "nbconvert_exporter": "python",
   "pygments_lexer": "ipython3",
   "version": "3.6.1"
  }
 },
 "nbformat": 4,
 "nbformat_minor": 2
}

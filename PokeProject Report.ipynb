{
 "cells": [
  {
   "cell_type": "markdown",
   "metadata": {},
   "source": [
    "# PokeProject"
   ]
  },
  {
   "cell_type": "markdown",
   "metadata": {},
   "source": [
    "### Names\n",
    "Matthew Goodman  \n",
    "Jackie Woodlief"
   ]
  },
  {
   "cell_type": "markdown",
   "metadata": {},
   "source": [
    "## <span style=\"color:green\">Introduction</span>\n",
    "#### Problem Statement\n",
    "For our machine learning project, we plan on creating an artificial intelligence that is capable of making a strong Pokemon team and using it in battle. During battle, the AI will be able to decide whether it wants it’s Pokemon to use it’s special attack, physical attack, or to switch out with another Pokemon in the party.\n",
    "#### Motivation\n",
    "Our motivation for this project is that we love Pokemon and thought it would be a good challenge to make an AI that can properly tell what kind of move it should use against a different pokemon or if it should change out with another pokemon in the team. There have been other Pokemon AI systems created in the past, but none of them really stood out much or could do only one task (create the create or use the team). We wanted to see just how well we could train an AI to do both of these tasks.\n",
    "#### Review of other Researches\n",
    "There was not really any other researches that similar to ours. Even in the Pokemon games, the AI is very limited due to how the programmers did not want to make the game too difficult for the player to win. There are some AI’s that are able to create a fairly balanced team, but not fully capable of using that team in battle, such as deciding which kind of attack to use or if the current Pokemon should be swapped out with another one in the team.\n",
    "#### Open Questions in the Domain\n",
    "Some known problems with Pokemon AI is that the AI will not always take in all the information it can in order to decide what to do. This can lead to things such as the AI leaving a Pokemon out that is weak against the current opposing Pokemon. There is also a matter of how to handle IV and EV values along with the Pokemon’s level, for the our project we have set IV and EV values to 0 and each Pokemon’s level to be 100.\n",
    "#### Short Summary of Proposed Approach\n",
    "Our approach to this problem was to create a neural network system that is capable of creating and using a balanced Pokemon team and battling with it against either another AI or a player. The AI looks at the current Pokemon it has out in battle and the opponent’s current Pokemon, then calculates the best option depending on each Pokemon’s statistics."
   ]
  },
  {
   "cell_type": "markdown",
   "metadata": {},
   "source": [
    "## <span style=\"color:green\">Methods</span>\n",
    "For our AI, we are using neural networks and auto encoding. The neural network uses the information given to it to calculate and determine if the current pokemon stands the best chance against the opponent's current pokemon, or if another pokemon in it’s team will be a better match-up. \n",
    "\n"
   ]
  },
  {
   "cell_type": "markdown",
   "metadata": {},
   "source": [
    "#### getPoke(pokeid)\n",
    "This method finds the Pokemon based off of the given number, then returns the Pokemon\n",
    "\n",
    "#### getPokeByName(pokeid) \n",
    "This method finds the Pokemon based off of the given name, then returns the Pokemon\n",
    "\n",
    "#### createTeam(team) \n",
    "This method creates a team of six Pokemon\n",
    "\n",
    "#### DisplayPokemon(team,health) \n",
    "This method displays the team along with each Pokemon's stats (HP, ATK, DEF, SP. ATK, SP. DEF, SPD, and type)\n",
    "\n",
    "#### Clear() \n",
    "This method clears the output\n",
    "\n",
    "#### Class Agent() :\n",
    "##### _\\_init__(self, name) \n",
    "Initialization \n",
    "##### getAction(...) \n",
    "This is the method that allows for action use\n",
    "##### getSwitch(...) \n",
    "This is the method that allows to swap Pokemon\n",
    "\n",
    "#### Class Player(Agent)\n",
    "> ##### _\\_init__(self, name) \n",
    "Initialization\n",
    "##### getAction(...) \n",
    "Gets what action the player wants to take\n",
    "##### getSwitch(...) \n",
    "Gets what Pokemon in their team the player wants to switch their current Pokemon out for\n",
    "\n",
    "#### CompilePokemon(pokemon) \n",
    "Compiles the pokemon then returns compiled information\n",
    "\n",
    "#### CompileTeamData(team,health,current) \n",
    "Compiles the team of pokemon along with the team’s health and the current pokemon out to battle, then returns this information\n",
    "\n",
    "#### PokeBattle(team1,team2,agent1,agent2,verbose=true)\n",
    "Used to battle\n",
    ">##### Damage(attacker,defender,SP)\n",
    "Used to calculate damage done\n",
    "##### Attack(atk) \n",
    "Allows current Pokemon to attack using chosen move and updates health values\n",
    "##### CompileData(team) \n",
    "Compiles the team's data, then returns the information\n",
    "        \n",
    "#### ResetTensorflow(seed) \n",
    "Resets the tensor flows\n",
    "\n",
    "#### Selu(...)\n",
    "Selu method for learning\n",
    "\n",
    "#### NeuralNet(Xtrain, Xtest, layers,n_epochs=10000, learning_rate=0.01)\n",
    "Neural network for training the AI\n",
    "\n",
    "#### EnumerateTeam(team, health, current) \n",
    "Enumerates the given team, then returns that information\n",
    "\n",
    "#### EnumerateSamples(numSamples = 1000) \n",
    "Numerates a sample team, then returns that information\n"
   ]
  },
  {
   "cell_type": "markdown",
   "metadata": {},
   "source": [
    "## <span style=\"color:green\">Results and Discussions</span>\n",
    "#### Conclusions\n",
    "\n",
    "\n",
    "#### References\n",
    "The data: https://www.kaggle.com/abcsds/pokemon\n",
    "\thttps://www.doc.ic.ac.uk/~nd/surprise_96/journal/vol4/cs11/report.html#Feed-forward networks\n"
   ]
  },
  {
   "cell_type": "code",
   "execution_count": null,
   "metadata": {
    "collapsed": true
   },
   "outputs": [],
   "source": []
  }
 ],
 "metadata": {
  "kernelspec": {
   "display_name": "Python 3",
   "language": "python",
   "name": "python3"
  },
  "language_info": {
   "codemirror_mode": {
    "name": "ipython",
    "version": 3
   },
   "file_extension": ".py",
   "mimetype": "text/x-python",
   "name": "python",
   "nbconvert_exporter": "python",
   "pygments_lexer": "ipython3",
   "version": "3.6.2"
  }
 },
 "nbformat": 4,
 "nbformat_minor": 2
}
